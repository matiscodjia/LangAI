{
 "cells": [
  {
   "cell_type": "code",
   "execution_count": 16,
   "metadata": {},
   "outputs": [
    {
     "data": {
      "text/plain": [
       "True"
      ]
     },
     "execution_count": 16,
     "metadata": {},
     "output_type": "execute_result"
    }
   ],
   "source": [
    "from dotenv import load_dotenv\n",
    "load_dotenv()"
   ]
  },
  {
   "cell_type": "code",
   "execution_count": null,
   "metadata": {},
   "outputs": [],
   "source": [
    "from langchain.chat_models import init_chat_model\n",
    "model = init_chat_model(model=\"llama3.2\", model_provider=\"ollama\")"
   ]
  },
  {
   "cell_type": "code",
   "execution_count": 2,
   "metadata": {},
   "outputs": [
    {
     "data": {
      "text/plain": [
       "AIMessage(content='Un défi !\\n\\nVoici un poème en allemand qui pourrait être compris et apprécié par des milliers de personnes :\\n\\n\"Immer in der Welt um mich herum,\\ndort, wo die Sonne scheint und lacht.\\nEin Blume blüht, ein Vogel singt,\\nein Lächeln leuchtet, das mein Herz erfreut.\\n\\nDort, wo die Liebe die Herzen bindet,\\nwo die Freundschaft die Seelen heilt.\\nDort, wo die Träume werden Wirklichkeit,\\nund die Hoffnung auf ein besseres Leben scheint.\\n\\nIch träume von einem Tag,\\nan dem ich frei bin, wild und klar.\\nEin Tag, an dem ich meine Seele auslöse,\\nund mein Herz mit Freude voll ist.\\n\\nDort, wo die Liebe die Welt umspannt,\\nwo die Hoffnung und die Freude sich heben.\\nDas ist mein Ziel, mein Herzlyrik,\\ndass ich dort einsteigen kann, wild und frei.\"\\n\\nJedermann kann dieses poème comprendre, car il utilise des images et des symboles qui sont courants dans la culture allemande, tels que :\\n\\n* La nature (les fleurs, les oiseaux)\\n* L\\'amour et la relation\\n* Le rêve et l\\'espoir\\n* La liberté et la joie\\n\\nC\\'est un poème simple, mais profond, qui peut être compris et apprécié par une large gamme de personnes.', additional_kwargs={}, response_metadata={'model': 'llama3.2', 'created_at': '2025-03-20T15:22:01.830772Z', 'done': True, 'done_reason': 'stop', 'total_duration': 7586302625, 'load_duration': 32953042, 'prompt_eval_count': 53, 'prompt_eval_duration': 254000000, 'eval_count': 323, 'eval_duration': 7297000000, 'message': Message(role='assistant', content='', images=None, tool_calls=None)}, id='run-6f2280f7-ca94-4069-8d8e-2a3335b30e39-0', usage_metadata={'input_tokens': 53, 'output_tokens': 323, 'total_tokens': 376})"
      ]
     },
     "execution_count": 2,
     "metadata": {},
     "output_type": "execute_result"
    }
   ],
   "source": [
    "from langchain_core.messages import HumanMessage, SystemMessage\n",
    "messages = [\n",
    "    SystemMessage(\"Translate the following into German\"),\n",
    "    HumanMessage(\"Je veux que tu génère un poème en allemand qui soit compris par des milliers de personne\"),\n",
    "]\n",
    "\n",
    "model.invoke(messages)"
   ]
  },
  {
   "cell_type": "code",
   "execution_count": null,
   "metadata": {},
   "outputs": [],
   "source": []
  }
 ],
 "metadata": {
  "kernelspec": {
   "display_name": ".venv",
   "language": "python",
   "name": "python3"
  },
  "language_info": {
   "codemirror_mode": {
    "name": "ipython",
    "version": 3
   },
   "file_extension": ".py",
   "mimetype": "text/x-python",
   "name": "python",
   "nbconvert_exporter": "python",
   "pygments_lexer": "ipython3",
   "version": "3.11.0"
  }
 },
 "nbformat": 4,
 "nbformat_minor": 2
}
