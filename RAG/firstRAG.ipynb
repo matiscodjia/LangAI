{
 "cells": [
  {
   "cell_type": "markdown",
   "metadata": {},
   "source": [
    "### Configuration\n",
    "- Vector Store : ChromaDB\n",
    "- QA model : Ollama.LLAMA3.2\n",
    "- Embedding model : Nomic Embed text\n",
    "- Split method : Langchain.TokenTextSplitter CS : 4900 Overlap 200 previously 10000"
   ]
  },
  {
   "cell_type": "markdown",
   "metadata": {},
   "source": [
    "### Imports"
   ]
  },
  {
   "cell_type": "code",
   "execution_count": 2,
   "metadata": {},
   "outputs": [],
   "source": [
    "from langchain_chroma import Chroma\n",
    "from langchain_ollama import OllamaEmbeddings\n",
    "from langchain_ollama.llms import OllamaLLM\n",
    "from langchain_core.prompts import ChatPromptTemplate\n",
    "\n",
    "from tqdm import tqdm\n",
    "from utils.my_indexing_utils import *\n",
    "from langchain.text_splitter import TokenTextSplitter\n",
    "from langchain_core.prompts import ChatPromptTemplate\n"
   ]
  },
  {
   "cell_type": "markdown",
   "metadata": {},
   "source": [
    "#### Set parameters\n"
   ]
  },
  {
   "cell_type": "code",
   "execution_count": 3,
   "metadata": {},
   "outputs": [],
   "source": [
    "CHUNK_SIZE = 4900\n",
    "OVERLAP = 200\n",
    "EMBEDDING_MODEL=\"nomic-embed-text\"\n",
    "DOCUMENTS_DIR=\"../Data/corpus\"\n",
    "SPLITTED_DOCS_DIR=\"splitted_docs\"\n",
    "PERSISTENT_DIR=\"chroma_langchain_db\"\n",
    "SAMPLE_SIZE=1\n",
    "VERBOSE=True\n",
    "BATCH_SIZE = 4"
   ]
  },
  {
   "cell_type": "markdown",
   "metadata": {},
   "source": [
    "## Indexing"
   ]
  },
  {
   "cell_type": "markdown",
   "metadata": {},
   "source": [
    "### Set embedding model"
   ]
  },
  {
   "cell_type": "code",
   "execution_count": 4,
   "metadata": {},
   "outputs": [],
   "source": [
    "embeddings = OllamaEmbeddings(\n",
    "    model=EMBEDDING_MODEL,\n",
    ")"
   ]
  },
  {
   "cell_type": "markdown",
   "metadata": {},
   "source": [
    "### Split texts and save them"
   ]
  },
  {
   "cell_type": "code",
   "execution_count": null,
   "metadata": {},
   "outputs": [],
   "source": [
    "text_splitter = TokenTextSplitter(chunk_size=CHUNK_SIZE, chunk_overlap=OVERLAP)\n",
    "documents_list = makeDocuments(path=DOCUMENTS_DIR,sample_size=SAMPLE_SIZE,verbose=VERBOSE)\n",
    "all_splits = split_docs(text_splitter=text_splitter,documents_list=documents_list,verbose=VERBOSE)\n",
    "save_documents(all_splits,output_dir=SPLITTED_DOCS_DIR,verbose=VERBOSE)"
   ]
  },
  {
   "cell_type": "markdown",
   "metadata": {},
   "source": [
    "### Set if not exist a vector store"
   ]
  },
  {
   "cell_type": "code",
   "execution_count": 6,
   "metadata": {},
   "outputs": [
    {
     "name": "stdout",
     "output_type": "stream",
     "text": [
      "Vector store déjà présent, chargement...\n"
     ]
    }
   ],
   "source": [
    "persist_dir = PERSISTENT_DIR\n",
    "vector_store = make_db(persist_dir=PERSISTENT_DIR,verbose=VERBOSE,embeddings=embeddings)"
   ]
  },
  {
   "cell_type": "markdown",
   "metadata": {},
   "source": [
    "### Embbed doc & store them in database once"
   ]
  },
  {
   "cell_type": "code",
   "execution_count": 24,
   "metadata": {},
   "outputs": [
    {
     "name": "stderr",
     "output_type": "stream",
     "text": [
      "Vectorizing: 100%|\u001b[36m██████████\u001b[0m| 225/225 [03:45<00:00,  1.00s/it]\n"
     ]
    }
   ],
   "source": [
    "def indexing():\n",
    "    indexed_ids = vector_store.get(include=[])[\"ids\"]\n",
    "    if len(indexed_ids) == len(all_splits):\n",
    "        print(\"Already indexed...\")\n",
    "    else :\n",
    "        batch_size = BATCH_SIZE\n",
    "        for i in tqdm(range(0, len(all_splits), batch_size), desc=\"Vectorizing\",colour=\"cyan\"):\n",
    "            batch = all_splits[i:i+batch_size]\n",
    "            vector_store.add_documents(batch)\n",
    "indexing()"
   ]
  },
  {
   "cell_type": "markdown",
   "metadata": {},
   "source": [
    "## Retrieval"
   ]
  },
  {
   "cell_type": "code",
   "execution_count": 21,
   "metadata": {},
   "outputs": [],
   "source": [
    "def retrieve_context(query, k=3, separator=\"\\n\\n\"):\n",
    "    docs = vector_store.similarity_search_with_score(query=query, k=k)\n",
    "    scores = []\n",
    "    context = \"\"\n",
    "    for doc, score in docs:\n",
    "        scores.append(score)\n",
    "        context += f\"{doc.page_content}{separator}\"  \n",
    "    return context.strip(), scores, docs"
   ]
  },
  {
   "cell_type": "code",
   "execution_count": null,
   "metadata": {},
   "outputs": [
    {
     "name": "stdout",
     "output_type": "stream",
     "text": [
      "Dans le contexte parlementaire du XIXe siècle, une \"interpellation\" désigne un amendement ou une motion proposée par un député pour examiner ou discuter d'un sujet particulier, souvent lié à une question politique, sociale ou économique.\n",
      "\n",
      "Dans ce sens, l'interpellation est un moyen permettant aux députés de faire appel au vote du Parlement sur une question spécifique. Lorsqu'une interpellation est proposée, elle doit passer par plusieurs étapes, notamment une motion d'examen (ou \"de lecture\") qui permet de discuter de la question, puis un vote sur l'amendement ou le projet de loi en question.\n",
      "\n",
      "L'interpellation peut être présentée par n'importe quel député et portée par son collègue pour s'y opposer. C'est ainsi que se manifeste souvent la opposition politique au gouvernement ou à une décision prise par les responsables politiques.\n",
      "\n",
      "Dans le contexte du texte fourni, on voit que plusieurs députés ont présenté des interpellations sur divers sujets, notamment liés aux indemnités accordées aux victimes des événements de mars, avril et mai 1871, ou encore à la séparation des Eglises et de l'État.\n"
     ]
    }
   ],
   "source": [
    "query = \"\"\"Que signifie une “interpellation” dans le contexte parlementaire du XIXe siècle ?\"\"\"\n",
    "context, scores, docs = retrieve_context(query=query)\n",
    "\n",
    "prompt = ChatPromptTemplate.from_messages([\n",
    "    (\"system\", \"Réponds à la question en utilisant le contexte suivant : {context}\"),\n",
    "    (\"user\", \"Utilise ce contexte pour répondre à la question suivante : {question}\")\n",
    "])\n",
    "\n",
    "model = OllamaLLM(model=\"llama3.2\")\n",
    "\n",
    "chain = prompt | model\n",
    "\n",
    "response = chain.invoke({\n",
    "    \"question\": query,\n",
    "    \"context\": context\n",
    "})\n",
    "print(response)"
   ]
  },
  {
   "cell_type": "code",
   "execution_count": 23,
   "metadata": {},
   "outputs": [
    {
     "name": "stdout",
     "output_type": "stream",
     "text": [
      "[(Document(id='d8690812-7d92-4f65-a883-70d66aa7909c', metadata={'chunk_id': '1882-06-19_1_chunk_15', 'parent_source': '1882-06-19_1', 'source': '1882-06-19_1'}, page_content=\"enciennes, Nord). Leroy (Arthur). Logerotte.\\n\\nRibot. Sarrien. Turquet Wilson.\\n\\nABSENTS PAR, CONGÉ : MM. Andrieux. Beauquier. Bertholon. Bourrillon. Chantemille. Daynaud. Devès. Douville-Maillefeu (comte de). Duchesne-Fournet.\\n\\nDucroz. Fauré. Fourcand. Galpin. La Bassetière (de). Laffitte de Lajoannenque (de).\\n\\nLaurençon. Leliôvre (Adolphe). Le Roux.\\n\\nLoubet. Marmottan. Mézières. Mir. Pellet (Marcellin). Récipon. Roys (marquis de). Sourigues. Vernhes.\\n\\nM. Bovier-Lapierre, porté comme s'étant abstenu dans le scrutin du samedi 17 juin sur l'in-\\n\\nterdiction du compte rendu des débats des procès en divorce déclare avoir voté « contre » l'in.\\n\\nterdiction.\\n\\nM Drumel déclare que, dans la séance du samedi 17 juin, il a voté « pour» l'amendement de M. Gatineau sur la publicité des débats des procès en divorce.\\n\\nM. Bacquias, absent au moment du vote sur l'urgence de la proposition de MM. Janvier da La Motte et le baron Dufour, relative aux indemnités à accorder aux victimes des événements de mars, avril et mai 1871, déclare que, s'il avait été présent, il aurait voté « contreala demande d'urgence. M. Roivier déclare qu'il n'a pas pris part au vote dans le scrutin de ce jour sur le renvoi à quinzaine de l'interpellation de M. Ballue, et qu'il était retenu à la commission du budget.\\n\\nM. Theulier, porté comme n'ayant pas pris part au vote dans le même scrutin, déclare avoir voté « pour » le renvoi de l'interpellation à quinze jours.\"), 0.6514543890953064), (Document(id='64ea1dac-4d09-462c-a276-c6f259110214', metadata={'chunk_id': '1905-05-16_chunk_17', 'parent_source': '1905-05-16', 'source': '1905-05-16'}, page_content=\" voté « contre », et qu'en réalité il avait voté « pour ».\\n\\nM. Euzière fait la même déclaration.\\n\\nDans le scrutin du 15 mai sur l'ajournement de la fixation de la date des interpellations de MM. Vaillant et de Pressensé : M. Millevoye déclare qu'il a été porté par errreur comme ayant voté « contre », et qu'en réalité il avait voté « pour ».\\n\\nM. Fernand Rabier déclare qu'il a été porté par erreur comme ayant voté « pour », et qu'en réalité il « s'était abstenu ».\\n\\nM. Guingand fait la même déclaration.\\n\\nDans le scrutin du 15 mai sur la prise en considération de l'amendement de M. Lasies au projet de loi relatif à la séparation des Eglises et de l'Etat (Article 4 nouveau) : M. Lefas, porté comme ayant voté « contre », déclare qu'il était absent au moment du vote, et qu'en réalité il « s'était abstenu ».\\n\\nM. Georges Berthoulat déclare qu'il a été porté par erreur comme ayant voté « contre », et qu'en réalité il avait voté «Ur\"), 0.6575677394866943), (Document(id='e28237a5-66a7-46f8-bf2f-781756296fd7', metadata={'chunk_id': '1905-06-29_chunk_14', 'parent_source': '1905-06-29', 'source': '1905-06-29'}, page_content=\"ité ils avaient voté » contre ».\\n\\nMM. Ernest Cauvin, Cardon, Beharelle, Rose et Vallée font la môme déclaration.\\n\\nDans le scrutin de la 2e séance du 28 juin sur la prise en considération de l'article additionnel proposé par M. Paul Constans (Allier) après l'article 28 (Séparation des Eglises et de l'Etat) : M. Fernand Engerand déclare qu'il a été porté par erreur comme « n'ayant pas pris part au vole », et qu'en réalité il avait vote « pour ».\\n\\nMM. Beharelle, Rose et Vallée déclarent qu'ils ont été portés par erreur comme « n'ayant pas pris part au vote », et qu'en réalité ils avaient, votéCrcontre1).\"), 0.7403810620307922)]\n"
     ]
    }
   ],
   "source": [
    "print(docs)"
   ]
  }
 ],
 "metadata": {
  "kernelspec": {
   "display_name": ".venv",
   "language": "python",
   "name": "python3"
  },
  "language_info": {
   "codemirror_mode": {
    "name": "ipython",
    "version": 3
   },
   "file_extension": ".py",
   "mimetype": "text/x-python",
   "name": "python",
   "nbconvert_exporter": "python",
   "pygments_lexer": "ipython3",
   "version": "3.11.0"
  }
 },
 "nbformat": 4,
 "nbformat_minor": 2
}
