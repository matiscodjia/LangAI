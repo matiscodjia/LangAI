{
 "cells": [
  {
   "cell_type": "code",
   "execution_count": 3,
   "metadata": {},
   "outputs": [
    {
     "data": {
      "text/plain": [
       "\"Here's an explanation of LangChain in 20 lines:\\n\\nLangChain is a Python library for building blockchain-agnostic data pipelines.\\nIt provides a simple and efficient way to manage data interactions between humans, machines, and the blockchain.\\n\\nLangChain was founded by Alex Brampton and has gained significant traction in recent years.\\nThe library is designed to be highly scalable and flexible, making it suitable for large-scale applications.\\n\\nOne of the key features of LangChain is its ability to handle data at scale.\\nIt provides a range of tools and APIs for working with data, including data ingestion, processing, and storage.\\n\\nLangChain also supports various blockchain platforms, including Ethereum, Binance Smart Chain, and Polkadot.\\nThis makes it easy to integrate with different blockchains and build decentralized applications.\\n\\nThe library is designed to be highly extensible, allowing developers to easily add new features and functionality.\\nIt also provides a range of pre-built components and tools for common use cases, such as data ingestion and processing.\\n\\nLangChain has gained significant traction in the blockchain and data science communities.\\nMany developers and organizations are using the library to build innovative applications and solutions.\\n\\nOne of the key benefits of LangChain is its ability to provide a single interface for working with multiple blockchains.\\nThis makes it easy to switch between different platforms and adapt to changing requirements.\\n\\nLangChain also provides a range of tools for building decentralized applications (dApps).\\nThese include APIs for interacting with smart contracts, as well as tools for managing data and assets.\\n\\nThe library is designed to be highly secure, with robust encryption and authentication mechanisms in place.\\nThis makes it suitable for use in sensitive applications and industries, such as finance and healthcare.\\n\\nLangChain has a large and active community of developers and users.\\nMany contributors and maintainers are working on the library, adding new features and fixing bugs.\\n\\nThe library is constantly evolving, with new releases and updates being made regularly.\\nThis ensures that LangChain stays up-to-date with the latest developments in blockchain and data science.\\n\\nOverall, LangChain is a powerful tool for building blockchain-agnostic data pipelines.\\nIts flexibility, scalability, and extensibility make it an ideal choice for many use cases.\""
      ]
     },
     "execution_count": 3,
     "metadata": {},
     "output_type": "execute_result"
    }
   ],
   "source": [
    "from langchain_core.prompts import ChatPromptTemplate\n",
    "from langchain_ollama.llms import OllamaLLM\n",
    "\n",
    "template = \"\"\"Question: {question}\n",
    "In twenty lines\"\"\"\n",
    "\n",
    "prompt = ChatPromptTemplate.from_template(template)\n",
    "\n",
    "model = OllamaLLM(model=\"llama3.2\")\n",
    "\n",
    "chain = prompt | model\n",
    "\n",
    "chain.invoke({\"question\": \"What is LangChain?\"})"
   ]
  },
  {
   "cell_type": "code",
   "execution_count": 2,
   "metadata": {},
   "outputs": [
    {
     "data": {
      "text/plain": [
       "True"
      ]
     },
     "execution_count": 2,
     "metadata": {},
     "output_type": "execute_result"
    }
   ],
   "source": [
    "from dotenv import load_dotenv\n",
    "load_dotenv()"
   ]
  }
 ],
 "metadata": {
  "kernelspec": {
   "display_name": ".venv",
   "language": "python",
   "name": "python3"
  },
  "language_info": {
   "codemirror_mode": {
    "name": "ipython",
    "version": 3
   },
   "file_extension": ".py",
   "mimetype": "text/x-python",
   "name": "python",
   "nbconvert_exporter": "python",
   "pygments_lexer": "ipython3",
   "version": "3.11.0"
  }
 },
 "nbformat": 4,
 "nbformat_minor": 2
}
