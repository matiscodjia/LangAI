{
 "cells": [
  {
   "cell_type": "code",
   "execution_count": 16,
   "metadata": {},
   "outputs": [
    {
     "data": {
      "text/plain": [
       "True"
      ]
     },
     "execution_count": 16,
     "metadata": {},
     "output_type": "execute_result"
    }
   ],
   "source": [
    "from dotenv import load_dotenv\n",
    "load_dotenv()"
   ]
  },
  {
   "cell_type": "code",
   "execution_count": 17,
   "metadata": {},
   "outputs": [],
   "source": [
    "from langchain.chat_models import init_chat_model\n",
    "model = init_chat_model(model=\"llama3.2\", model_provider=\"ollama\")"
   ]
  },
  {
   "cell_type": "code",
   "execution_count": null,
   "metadata": {},
   "outputs": [
    {
     "data": {
      "text/plain": [
       "AIMessage(content='Bien sûr, voici un poème en allemand qui pourrait être compris et apprécié par des milliers de personnes :\\n\\n**\"L\\'Homme dans la Nuit\"**\\n\\nIn der Stille der Nacht,\\nwo die Sterne leuchten so klar,\\nein Mann steht allein,\\ndurch das Leben durchgegangen.\\n\\nSeine Schatten werfen,\\nden Spiegelbild an die Wand,\\ner sieht in diesem Blick,\\nsich selbst, arm und krank.\\n\\nAber dann erhebt sich,\\nseine Seele, wie ein Vogel,\\ndie Nacht ist sein Palast,\\nwo er seine Träume wohnt.\\n\\nEr streckt seine Arme,\\nzum Himmel hoch,\\nund ruft nach der Freiheit,\\nnach dem Licht in der Nacht.\\n\\nSein Herz schlägt mit Stärke,\\nsein Geist with Holt, wie ein Vogel,\\ndie Nacht ist sein Ziel,\\nwo er seine Hoffnung wohnt.\\n\\nUnd so steckt dieser Mann,\\nin der Dunkelheit tief,\\nein Funken der Hoffnung,\\nder Licht in der Nacht leitet.\\n\\n**Traduction française**\\n\\n\"Le Homme dans la nuit\"\\n\\nDans la silence de la nuit,\\noù les étoiles brille si clairement,\\nun homme se trouve seul,\\nà travers le vieillir du vieillissement.\\n\\nSes ombres projettent\\nson reflet en la peinture,\\nil voit dans ce regard\\nsoi-même, pauvre et malade.\\n\\nMais puis il se lève,\\nsa âme, comme un oiseau,\\nla nuit est son palais,\\noù il abrite ses rêves.\\n\\nIl étends les bras\\nvers le ciel haut,\\net crie après la liberté,\\naprès la lumière de la nuit.\\n\\nSon cœur frappe avec force,\\nson esprit se soulève, comme un oiseau,\\nla nuit est son objectif,\\noù il trouve sa confiance.\\n\\nEt ainsi cet homme,\\nsous la ténèbres profondes,\\nun éclat d\\'espoir,\\nqui guide le feu de la nuit.\\n\\nCe poème vise à aborder les thèmes de l\\'identité, de la condition humaine et de l\\'espoir dans un contexte allemand. Le poète décrit un homme qui se retrouve seul en une nuit calme, mais qui trouve dans cette solitude le moyen de trouver sa propre identité et son but dans la vie.', additional_kwargs={}, response_metadata={'model': 'llama3.2', 'created_at': '2025-03-19T21:09:00.345551Z', 'done': True, 'done_reason': 'stop', 'total_duration': 12099971750, 'load_duration': 767480500, 'prompt_eval_count': 53, 'prompt_eval_duration': 390000000, 'eval_count': 527, 'eval_duration': 10941000000, 'message': Message(role='assistant', content='', images=None, tool_calls=None)}, id='run-352ccd59-1b82-47be-a4c7-41136f0acb8a-0', usage_metadata={'input_tokens': 53, 'output_tokens': 527, 'total_tokens': 580})"
      ]
     },
     "execution_count": 35,
     "metadata": {},
     "output_type": "execute_result"
    }
   ],
   "source": [
    "from langchain_core.messages import HumanMessage, SystemMessage\n",
    "messages = [\n",
    "    SystemMessage(\"Translate the following into German\"),\n",
    "    HumanMessage(\"Je veux que tu génère un poème en allemand qui soit compris par des milliers de personne\"),\n",
    "]\n",
    "\n",
    "model.invoke(messages)"
   ]
  },
  {
   "cell_type": "code",
   "execution_count": null,
   "metadata": {},
   "outputs": [],
   "source": []
  }
 ],
 "metadata": {
  "kernelspec": {
   "display_name": ".venv",
   "language": "python",
   "name": "python3"
  },
  "language_info": {
   "codemirror_mode": {
    "name": "ipython",
    "version": 3
   },
   "file_extension": ".py",
   "mimetype": "text/x-python",
   "name": "python",
   "nbconvert_exporter": "python",
   "pygments_lexer": "ipython3",
   "version": "3.11.0"
  }
 },
 "nbformat": 4,
 "nbformat_minor": 2
}
