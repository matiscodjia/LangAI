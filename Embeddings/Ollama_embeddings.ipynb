{
 "cells": [
  {
   "cell_type": "code",
   "execution_count": 1,
   "metadata": {},
   "outputs": [],
   "source": [
    "from langchain_ollama import OllamaEmbeddings\n",
    "\n",
    "embeddings = OllamaEmbeddings(\n",
    "    model=\"llama3.2\",\n",
    ")"
   ]
  },
  {
   "cell_type": "code",
   "execution_count": 7,
   "metadata": {},
   "outputs": [
    {
     "name": "stdout",
     "output_type": "stream",
     "text": [
      "2\n",
      "0.05363023205352408\n",
      "0.029063166166344356\n"
     ]
    }
   ],
   "source": [
    "# Create a vector store with a sample text\n",
    "from langchain_core.vectorstores import InMemoryVectorStore\n",
    "\n",
    "\n",
    "file_path = './moi.txt'\n",
    "file_path2 = './elle.txt'\n",
    "\n",
    "def read(file_path):\n",
    "    with open(file_path, 'r') as file:\n",
    "        return file.read()\n",
    "\n",
    "\n",
    "text = read(file_path)\n",
    "text2 = read(file_path2)\n",
    "vectorstore = InMemoryVectorStore.from_texts(\n",
    "    [text, text2],\n",
    "    embedding=embeddings,\n",
    ")\n",
    "#print(vectorstore)\n",
    "results = vectorstore.similarity_search_with_score(query=\"Audrey\")\n",
    "print(len(results))\n",
    "for (document, score) in results:\n",
    "    print(score)\n",
    "\n",
    "# Retrieve the most similar text\n",
    "##retrieved_documents = retriever.invoke(\"Audrey \")\n",
    "\n",
    "# show the retrieved document's content\n",
    "#print(retrieved_documents[0].page_content[:100])"
   ]
  },
  {
   "cell_type": "code",
   "execution_count": null,
   "metadata": {},
   "outputs": [],
   "source": []
  }
 ],
 "metadata": {
  "kernelspec": {
   "display_name": ".venv",
   "language": "python",
   "name": "python3"
  },
  "language_info": {
   "codemirror_mode": {
    "name": "ipython",
    "version": 3
   },
   "file_extension": ".py",
   "mimetype": "text/x-python",
   "name": "python",
   "nbconvert_exporter": "python",
   "pygments_lexer": "ipython3",
   "version": "3.11.0"
  }
 },
 "nbformat": 4,
 "nbformat_minor": 2
}
