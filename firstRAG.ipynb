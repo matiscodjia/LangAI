{
 "cells": [
  {
   "cell_type": "markdown",
   "metadata": {},
   "source": [
    "### Configuration\n",
    "- Vector Store : ChromaDB\n",
    "- QA model : Ollama.LLAMA3.2\n",
    "- Embedding model : Nomic Embed text\n",
    "- Split method : Langchain.TokenTextSplitter CS : 4900 Overlap 200 previously 10000"
   ]
  },
  {
   "cell_type": "markdown",
   "metadata": {},
   "source": [
    "### Imports"
   ]
  },
  {
   "cell_type": "code",
   "execution_count": null,
   "metadata": {},
   "outputs": [],
   "source": [
    "from langchain_chroma import Chroma\n",
    "from langchain_ollama import OllamaEmbeddings\n",
    "from langchain_ollama.llms import OllamaLLM\n",
    "from langchain_core.prompts import ChatPromptTemplate\n",
    "\n",
    "from tqdm import tqdm\n",
    "from rag.utils.my_indexing_utils import *\n",
    "from langchain.text_splitter import RecursiveCharacterTextSplitter\n",
    "from langchain_core.prompts import ChatPromptTemplate\n"
   ]
  },
  {
   "cell_type": "markdown",
   "metadata": {},
   "source": [
    "#### Set parameters\n"
   ]
  },
  {
   "cell_type": "code",
   "execution_count": 44,
   "metadata": {},
   "outputs": [],
   "source": [
    "CHUNK_SIZE = 2500\n",
    "OVERLAP = 200\n",
    "EMBEDDING_MODEL=\"nomic-embed-text\"\n",
    "DOCUMENTS_DIR=\"/Users/mtis/Local/Code/GitRepos/LangAI/data/raw_data\"\n",
    "SPLITTED_DOCS_DIR=\"/Users/mtis/Local/Code/GitRepos/LangAI/rag/splitted_docs\"\n",
    "PERSISTENT_DIR=\"data/chroma_langchain_db\"\n",
    "SAMPLE_SIZE=1\n",
    "VERBOSE=True\n",
    "BATCH_SIZE = 4"
   ]
  },
  {
   "cell_type": "markdown",
   "metadata": {},
   "source": [
    "## Indexing"
   ]
  },
  {
   "cell_type": "markdown",
   "metadata": {},
   "source": [
    "### Set embedding model"
   ]
  },
  {
   "cell_type": "code",
   "execution_count": 45,
   "metadata": {},
   "outputs": [],
   "source": [
    "embeddings = OllamaEmbeddings(\n",
    "    model=EMBEDDING_MODEL,\n",
    ")"
   ]
  },
  {
   "cell_type": "markdown",
   "metadata": {},
   "source": [
    "### Split texts and save them"
   ]
  },
  {
   "cell_type": "code",
   "execution_count": 47,
   "metadata": {},
   "outputs": [
    {
     "name": "stdout",
     "output_type": "stream",
     "text": [
      "\n",
      "['1881-01-11.txt']\n",
      "1881-01-11.txt\n",
      "Splitting → 1881-01-11\n",
      "Split blog post into 17 sub-documents.\n",
      "Directory already exists\n"
     ]
    }
   ],
   "source": [
    "text_splitter = RecursiveCharacterTextSplitter(chunk_size=CHUNK_SIZE, chunk_overlap=OVERLAP,separators=[\"\\n\\n\", \"\\n\", \" \"])\n",
    "documents_list = makeDocuments(path=DOCUMENTS_DIR,sample_size=SAMPLE_SIZE,verbose=VERBOSE)\n",
    "all_splits = split_docs(text_splitter=text_splitter,documents_list=documents_list,verbose=VERBOSE)\n",
    "save_documents(all_splits,output_dir=SPLITTED_DOCS_DIR,verbose=VERBOSE)"
   ]
  },
  {
   "cell_type": "markdown",
   "metadata": {},
   "source": [
    "### Set if not exist a vector store"
   ]
  },
  {
   "cell_type": "code",
   "execution_count": 46,
   "metadata": {},
   "outputs": [
    {
     "name": "stdout",
     "output_type": "stream",
     "text": [
      "Création du vector store...\n"
     ]
    }
   ],
   "source": [
    "persist_dir = PERSISTENT_DIR\n",
    "vector_store = make_db(persist_dir=PERSISTENT_DIR,verbose=VERBOSE,embeddings=embeddings)"
   ]
  },
  {
   "cell_type": "markdown",
   "metadata": {},
   "source": [
    "### Embbed doc & store them in database once"
   ]
  },
  {
   "cell_type": "code",
   "execution_count": 48,
   "metadata": {},
   "outputs": [
    {
     "name": "stderr",
     "output_type": "stream",
     "text": [
      "Vectorizing: 100%|\u001b[36m██████████\u001b[0m| 5/5 [00:01<00:00,  2.52it/s]\n"
     ]
    }
   ],
   "source": [
    "def indexing():\n",
    "    indexed_ids = vector_store.get(include=[])[\"ids\"]\n",
    "    if len(indexed_ids) == len(all_splits):\n",
    "        print(\"Already indexed...\")\n",
    "    else :\n",
    "        batch_size = BATCH_SIZE\n",
    "        for i in tqdm(range(0, len(all_splits), batch_size), desc=\"Vectorizing\",colour=\"cyan\"):\n",
    "            batch = all_splits[i:i+batch_size]\n",
    "            vector_store.add_documents(batch)\n",
    "indexing()"
   ]
  },
  {
   "cell_type": "markdown",
   "metadata": {},
   "source": [
    "## Retrieval"
   ]
  },
  {
   "cell_type": "code",
   "execution_count": 35,
   "metadata": {},
   "outputs": [],
   "source": [
    "def retrieve_context(query, k=2, separator=\"\\n\\n\"):\n",
    "    docs = vector_store.similarity_search_with_score(query=query, k=k)\n",
    "    scores = []\n",
    "    context = \"\"\n",
    "    for doc, score in docs:\n",
    "        scores.append(score)\n",
    "        context += f\"{doc.page_content}{separator}\"  \n",
    "    return context.strip(), scores, docs"
   ]
  },
  {
   "cell_type": "code",
   "execution_count": 38,
   "metadata": {},
   "outputs": [
    {
     "name": "stdout",
     "output_type": "stream",
     "text": [
      "H. Villain\n"
     ]
    }
   ],
   "source": [
    "query = \"\"\"QUi est le tout premier député a avoir été appelé je veux un seul nom?\"\"\"\n",
    "context, scores, docs = retrieve_context(query=query)\n",
    "\n",
    "prompt = ChatPromptTemplate.from_messages([\n",
    "    (\"system\", \"Réponds à la question en utilisant le contexte suivant : {context}\"),\n",
    "    (\"user\", \"Utilise ce contexte pour répondre à la question suivante : {question}\")\n",
    "])\n",
    "\n",
    "model = OllamaLLM(model=\"llama3.2\")\n",
    "\n",
    "chain = prompt | model\n",
    "\n",
    "response = chain.invoke({\n",
    "    \"question\": query,\n",
    "    \"context\": context\n",
    "})\n",
    "print(response)"
   ]
  },
  {
   "cell_type": "code",
   "execution_count": 14,
   "metadata": {},
   "outputs": [
    {
     "name": "stdout",
     "output_type": "stream",
     "text": [
      "[(Document(id='af779a89-113b-4389-a7a3-c339f520c186', metadata={'chunk_id': '1881-01-11_chunk_1', 'parent_source': '1881-01-11', 'source': '1881-01-11'}, page_content=\"tion de s'ajourner. (Bruyantes exclamations à droite.) Sur divers bancs à droite el à l'extrêmeoauchu.Non 1 non l Sur un grand nombre d'autres bancs. Mais si 1 c'est nécessaire 1 M. Georges Perin. Je demande la parole.\\n\\nM. Laroche-Joubert. Je demande lapa.\\n\\nrole.\\n\\nM le comte de Colbert-Laplace. Je demande la parole.\\n\\nM. le président. La parole est à M.\\n\\nPerin.\\n\\nM. Georges Perin. Messieurs, je viens, au nom d'un certain nombre de mes amis et en mon nom personnel, demander à la Chambre de repousser la proposition d'ajournement qui vient d'être faLe pac noire honorable président. (Très bien ! très bien ! à droite et à l'extrême gauche.) Autant qu'il m'a été permis de l'entendre au milieu du bruit, je crois que la seule raison que notre honorable président ait fait valoir 7our justifier sa proposition, c'est que nousnenouspas en nombre.\\n\\nM. le président. J'ai dit que nous n'é tions pas en très grand nombre.\\n\\nM. Georges Perin. Il suffi4 que nous soyons en nombre pour cemmencer nos travaux. (Très-bien ! très-bien ! à droite et à l'extrême gauche.) Or, nous sommes en nombre, et je demande que nous commencions ces travaux, parce que je ne voi¡ pas quelle raison légitime pourrait motiver un ajournement de la session nouvelle.\\n\\nJ'espère qu'en demandant que la Chambre commence immédiatement sa session, je serai soutenu par le cabinet, car je n'ai pas oublié, et personne n'a oublié que le cahinet, dans sa déclaration, ainsi que le président du conseil à cette tribune, ont dit que la Chambre avait un grand nombre de travaux à accomplir; que ces travaux, pour la plupart déjà achevés par les commissions, devaient être parfaits en séance publique dans le cours de la dernière session.\\n\\nM. le président du conseil nous a sommés très-éloquemment de nous mettre à l'œuvre sur l'heure, de travailler énergiquement, sans perdre un instant; vous avez applaudi à ses paroles, et je ne comprendrais pas qu'un ajournement vînt aujourd'hui infirmer vos applaudissements d'il y a deux mois. (Interruptions diverses.) - Je prierai ceux de mes collègues de gauche qui m'interrompent, et notamment l'honorable M. Villain qui proteste, de vouloir bien me laisser parler; ils pourront venir me répondre à cette tribune. (Très-bien 1 sur plusieurs bancs à l'extrême gauche.) M. de La Rochefoucauld, duc de Bisaccia. Que ceux qui sont pour l'ajournement en disent tout de suite le vrai motif.\\n\\nM. Henri Villain. Tout le monde comprendra aisément qu'ilyaura pour les élections municipales, dimanche prochain, des scrutins de ballottage, et qu'un grand nombre de nos collègues seront retenus dans leurs départements jusqu'à cette date.\\n\\nM. Georges Perin. Messieurs, je continue. Nous avons Je devoir de commencer nos travaux immédiatement, parce qu'ils sont nombreux, et qu'il sera difficile de les accomplir. de les achever tous, en temps utile.\\n\\nQuant à la seule raison qu'on ait fait valoir pour un ajournement et qu'on tire des élections municipales inachevées en quelques endroits, j'avoue que je ne comprends pas qu'on ose alléguer un tel motif et se servir d'un pareil argument. (Approbation à droite et interruptions.)\\n\\nM. de Baudry d'Asson. Nous ne sommes pas payés pour ne rien faire !\\n\\nM. le président. N'interrompez pas ! demandez Ja paroh. si vous voulezlM. Georges Perin. Je crois que les devo'rs qu'impose le mandat de député priment tous les autres, qu'en ce moment le devoir de,tout dépu.'é est d'être ici, et qu'il n'est pas de considération qui puisse excuser ceux de nos honorables collègues qui ne sont pas à leur banc.\\n\\nM. Henri Villain. Avant d'être député, on est électeur.\\n\\nlVJ.Georges Péri». Soit, mais je demanderai alors à l'honorable interrupteur, pourquoi les députés — et, ils sont. nombreux qui n'auront pas à voter dimanche prochain au scrutin de ballottage, sont absents en ce moment.\\n\\nEnfin, messieurs, je ferai valoir, en terminant une dernière considération contre l'ajournement demandé, considération qui, je crois, sera de nature à toucher la Chambre.\\n\\nC'est qu'aux termes mêmes de la Constitution, il ne me paraît pas que nous puissions nous ajourner. En eifet, la Constitution déclare que les Chambres se réuniront le second mardi de janvier et je crois même qu'on ne peut pas soutenir sérieusement que les Chambres sont réunies quand les bureaux ne sont pas constitués. Nous avons donc le devoir de nous réu-\\n\\nnir sérieusement, efficacement, c'est-à-dire de constituer d'abord le bureau et ensuite de commencer ces longs et difficiles travaux dont je vous parlais tout à l'heure.\\n\\nJe vous demande donc de repousser l'ajournement et de procéder immédiatement à la constitution du bureau.\\n\\nA droite et à l'extrême gauche. Très-bien!\\n\\ntrès-bien!\\n\\nSur un grand nombre bancs à gauche. Aux vo x! aux voix 1 M. le comte de Colbert-Laplace. Messieurs, la Constitution prescrit que le Parlement se réunira le second mardi de l'année.\"), 0.7652205796858954), (Document(id='eec94150-e2b9-40ba-88b6-a4bf4df7c963', metadata={'chunk_id': '1881-01-11_chunk_2', 'parent_source': '1881-01-11', 'source': '1881-01-11'}, page_content='très-bien!\\n\\nSur un grand nombre bancs à gauche. Aux vo x! aux voix 1 M. le comte de Colbert-Laplace. Messieurs, la Constitution prescrit que le Parlement se réunira le second mardi de l\\'année.\\n\\nCe n\\'est pas là une simple formalité qui est inscrite dans la Constitution, c\\'est au contraire un point fondamental de la Constitution, car il signifie que, quel que soit le bon plaisir du Gouvernement, dès le commencement de l\\'année le pouvoir parlementaire sera réuni, constitué, par conséquent habile à exercer dans leur plénitude les droits que lui donne la Constitution ; cela, signifie donc que s\\'il y avait un pouvoir conspirant contre les libertés publiques, il trouverait en face de lai, dès les premiers jours de l\\'année, le Parlement constitué, c\\'est à-dire capable d\\'action et de résistance, et que pour ne pas le trouver là il faudrait qu\\'il violât lui-même la Constitution, qu\\'il se mît lui-même hors laloi. (Très-bien 1 très - bien I à droite.) Je ne prévois rien de semblable en ce moment, mais je dois suivre le législateur, et l\\'article auquel je fais allusion est évidemment une clause défensive, une garantie de défense et de résistance. Vous m\\'excuserez donc de prévoir des circonstances exceptionnelles. Je suppose donc que des circonstances anormales se produisent pendant les dix jours qui vont courir, notre ancien bureau n\\'existe plus, ce serait donc à notre président d\\'âge qu\\'appartiendrait la prérogative présidentielle pendant cette intercession, qu\\'appartiendrait le droit de nous convoquer avant la fin de notre ajournement volontaire. Je veux bien que l\\'âge cette fois ait bien choisi, mais supposez des circonstances difficHes, supposez que le hasard de l\\'âge ait appelé au fauteuil de président un ennemi du pouvoir parlementaire ou - un incapable!\\n\\nOui, linterpretaUon qui permettrait d\\'ajourner la constitution du Parlement est sans danger dans les circonstances astuelles, mais tous ies précédents, au moment où on les introJuit, sont sans danger ; cependant ce sont les brèelles par où ont toujours passé toutes les violations de la loi.\\n\\nJe demande donc que la Chambre ne se sépare pas avant d\\'avoir constitué son bureau.\\n\\n(Vive approbation à droite. — Exclamations à gauche.) M. Guichard. Le motif pour lequel on vous demande de ne pas procéder aujourd\\'hui à la constitution de votrebureaudetiruiit\"est le même que celui qui, lors de l\\'ouverture de la session de 1878, vous faisait ajourner la constitution du bureau définitif. A cette époque, vous avez voulu permettre à vos collègues de prendre part aux scrutins de ballottage dans les élections munitipalae. Vous avez même raison de témoigner de l\\'extrême importance que vous attachez aux élections municipales ; ce sont elles qui ont contribué, en 1872 et en 1874, à la fondation de la République; et dans ce moment où les électeurs municipaux, animés du même esprit que la majorité républicaine de la Chambre, se montrent des amis éclairés et dévoués de la République, nous ne devons pas païaîtrs indifférents à leurs patriotiques efforts.\\n\\nJe pense, messieurs, que nous devons retarder la constitution de notre bureau, afin que. les membres de la Chambre puissent s\\'associer au triomphe d-3 l\\'opinion républicaine dans les scrutins de ballottage qui doivent avoir lieu, nous mettrons ainsi en lumière la communauté de sentiments qui\\n\\naniment les conseils municipaux et la Chambre des députés.\\n\\nIl y a plus, messieurs, et je vous prie d\\'ac.\\n\\ncorder un moment d\\'attention à cette nouvelle considération.\\n\\nEn supposant que nous soyons assez nombreux pour constituer notre bureau définitif, est il bien sûr que tous les membres présents seront exactse.çqu\\'ils monteront à cette tribune pour déposer les 268 bulletins nécessaires à la constitution de notre bureau, et croyezvous qu\\'il ne soit pis p\\'us prudent d\\'attendre que nous soyons plus nombreux encore, afin que le défaut d\\'exactitude d\\'ua certain nombre de nos collègues ne puisse pas compromettre la validité du scrutin destiné à constituer notre bureau définitif?\\n\\nJe crois que, lorsque nous avons un motif aussi sérieux, aussi national à donner que la nécessité de laisser nos collègues concourir aux élections municipales, nous ne devoas pas nous exposer au danger de voir notre scrutin frappé de nullité par suite de l\\'absence d\\'un certain nombre de nos collègues.\\n\\nSi ceux qui insistent en ce moment pour que nous procédions immédiatement à la nomination de notre bureau veulent bien prendre ici l\\'engagement de voter quand l\\'urne du scrutin sera déposée sur la tribune, je n\\'aurai plus d\\'objection à faire ; mais jusqu\\'à ce que cet engagement soit pris, je dis que la dignité de la Chambre s\\'oppose à ceqllenous nous exposions à tentor un scrutin qui serait nul, faute de réunir 268 bulletins.'), 0.7935061842747623), (Document(id='60f447d7-709f-4834-8aaf-729fdf25fd09', metadata={'chunk_id': '1881-01-11_chunk_3', 'parent_source': '1881-01-11', 'source': '1881-01-11'}, page_content=\"C'est pourquoi j'insiste pour l'adoption da !a motion de notre honorable président d'àg, motion que, sur sa proposition, vous avez déià votée il y a trois ans. En terminant, je fais des vœux pour qu'il puisse encore de longues années présider à l'ouverture de nos sessions.\\n\\nM. Janvier de la Motte (Eure). Je demande la parole. (Exclamations à gauche. —\\n\\nAux vois 1 aux voix ! - La c'ôture 1) M. Le Provost de Launay fils. Nous protestons contre ces cris indécents.\\n\\nPlusieurs membres à droite. Parlezlparlez !\\n\\nM. Charles Abbatucci. Si vous n'êtes pas en nombre, vous ne pouvez pas voter l'ajournement.\\n\\nM. Janvier de la Motte (Elue). Je demande la parole pour un rappel au règlement, et dans ces conditions elle ne peut m'être reragée. -..:\\n\\nJ'aiai%tarda a monter alatribune, aboyant que le Gouvernement allait répondre. (Exclamations ironiques à gauche.) M. Cantagrel. Il n'a pas besoin de parler.\\n\\nM. Henri Villain. Le Gouvernement n'a pas à intervenir, la Chambre est maitresse de son ordre du jour, c'est à elle seule qu'il appartient de le régler.\\n\\nM. Janvier dp La Motte (Eure). Si vous m'aviez écouté jusqu'au bout, vous n'auriez pas fait cette interruption. Je disais que je croyais que le Gouvernement répondrait à l'interpellation directe Que lui avait adressée M.\\n\\nPerin, qui est bien des vôtres : M. Perin lui avait demandé quel était son avip, relativement à l'ajournement de la discussion.\\n\\nM. Ballue. Il n'a rien demandétM. Janvier de La Motte (Eure). La sténographie vous dira le contraire.\\n\\nMais, messieurs, en dehors des considérations qu'a fait, valoir l'honorable M. Perin, je me bornerai à vous citer l'article 7 du règ!ement. Or, si la Chambre est maîtresse de son ordre du jour, elle ne peut l'être qu'autant que cet ordre du jour est établi conformément au règlement.\\n\\nEh bien, cet article dit. (Rumeurs diverses. )\\n\\nMeesleurs, j'irai jusqu'au bout.\\n\\nCet article dit : « Si les pouvoirs ont été vérifiés dans uue session précédente D — c'est bien la situation dans laquelle nous nçus trouvons — « l'élection du bureau a lieu à la première séance de la session nouvelle ouverte. »\\n\\nC'est tellement vrai, messieurs, que l'année\\n\\ndernière, quand la Chambre s'est réunie, l'ordre du jour inséré au Journal officiel, deux ou trois jours avant la réunion, portait non seulement le tirage au sort des bureaux, mais encore l'élection de tout le bureau. (Assentiment à droite.) Je rappelle simplement cette formalité exigée par le règlement. Si la Chambre ne s y conforme pas, ce sera un nouvel accroc que vous lui donnerez, et nous pourrons l'invoquer plus tard quand vous l'appliquerez aussi arbitrairement que vous le faites quelquefois contre la droite. (Très-bien! très-bient à droite.— Exclamations à gauche.— Aux voix 1 aux voix 1) M. le président. Messieurs, pend, ant le dé.\\n\\nbat qui vient de s'engager, MM. les secrétaires ont vérifié le nombre des membres présents ; il n'y a que 210 membres réunis dans la salle en ce moment. (Bruyantes exclamations à droite.)\\n\\nPlusieurs membres à droite. L'appel nomi.nal !\\n\\nM. de Baudry d'Asson. Nous demandons formellement qu'il soit procédé à l'appel nominal !\\n\\nA droite. Oui ! oui r l'appel nominal (Réclamations'à gauche.) Un membre à droite. Le bureau est-il unanime ? -M. Laroche-Joubert. Je demande la parole. (Exclamations à gauche. — Bruit prolongé.) M. le président. Laissez le bureau refaire son calcul, il importe de savoir si le nombre des membres présents constitue la majorité de la Chambre.\\n\\nM. le baron Reille. Si le bureau n'est pas unanime, il faut procéder à un scrutin public à la tribune. Je demande la parole pour un rappel au règlement. (Brait.) A droite. Nous demandons l'appel nominal.\\n\\nM. le baron Dufour. Avec l'appel nominal, on constatera combien nous sommes.\\n\\nM. de Baudry-d'Asson. Nous demandons formellement l'appel nominal. Le règlement l'exige.\\n\\nM. le président. Les membres du bureau ne sont pas d'accord sur le nombre des membres présents. Il y aurait donc lieu de procéder à un scrutin public à la tribune.\\n\\nUne voix à droite. Par appel nominal.\\n\\nM. le président. Avant que la Chambre prononce, je dois lui rappeler un précédent.\\n\\nEn 1878, la Chambre s'est trouvée dans des circonstances analogues, à l'occasion précisément des élections municipales, et voici, messieurs, 6e qui a été décidé.\\n\\n« M. le président. L'ordre du jour appelle les scrutins pour la formation du bureau définitil « M. Leblond. Je demande la parole.\\n\\n« M. le président. Vous avez la parole.\\n\\n«M. Leblond. Je viens demander à la Chambre la renvoi à jeudi de la nomination du bureau définitif. (Assentiment à gauche et au centre. )\"), 0.83115100876689)]\n"
     ]
    }
   ],
   "source": [
    "print(docs)"
   ]
  }
 ],
 "metadata": {
  "kernelspec": {
   "display_name": ".venv",
   "language": "python",
   "name": "python3"
  },
  "language_info": {
   "codemirror_mode": {
    "name": "ipython",
    "version": 3
   },
   "file_extension": ".py",
   "mimetype": "text/x-python",
   "name": "python",
   "nbconvert_exporter": "python",
   "pygments_lexer": "ipython3",
   "version": "3.11.0"
  }
 },
 "nbformat": 4,
 "nbformat_minor": 2
}
