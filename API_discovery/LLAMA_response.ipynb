{
 "cells": [
  {
   "cell_type": "code",
   "execution_count": 3,
   "metadata": {},
   "outputs": [
    {
     "data": {
      "text/plain": [
       "'Here\\'s an explanation of LangChain in 20 lines:\\n\\nLangChain is a Python library that enables the creation of linked data structures.\\nIt provides a simple and efficient way to create chains of objects.\\nA chain is a sequence of nodes, where each node represents a value or a reference to another node.\\nLangChain allows you to create chains by linking together existing values or other chains.\\n\\nThe library uses a unique data structure called \"nodes\" to represent individual elements in the chain.\\nEach node contains a value and a reference to the next node in the chain.\\nThis design enables efficient traversal of the chain, making it suitable for large-scale applications.\\n\\nLangChain supports various types of nodes, including scalar values, tuples, lists, and other chains.\\nYou can also create custom node classes to represent specific data structures or concepts.\\n\\nOne of the key features of LangChain is its ability to handle cycles in the chain.\\nA cycle occurs when a node references another node that has already been visited.\\nLangChain provides mechanisms for handling cycles, ensuring that the chain remains consistent and accurate.\\n\\nThe library also includes tools for debugging and visualizing the chain.\\nThis makes it easier to understand the structure of the data and identify potential issues.\\n\\nLangChain is designed to be highly flexible and extensible.\\nYou can create custom chains by linking together nodes in a specific order or pattern.\\n\\nThe library is well-documented, with clear examples and tutorials available online.\\nThis makes it easy for developers to get started with LangChain and learn its features.\\n\\nOverall, LangChain is a powerful tool for creating linked data structures and chain-based applications.\\nIt provides an efficient and flexible way to represent complex relationships between values or objects.'"
      ]
     },
     "execution_count": 3,
     "metadata": {},
     "output_type": "execute_result"
    }
   ],
   "source": [
    "from langchain_core.prompts import ChatPromptTemplate\n",
    "from langchain_ollama.llms import OllamaLLM\n",
    "\n",
    "template = \"\"\"Question: {question}\n",
    "In twenty lines\"\"\"\n",
    "\n",
    "prompt = ChatPromptTemplate.from_template(template)\n",
    "\n",
    "model = OllamaLLM(model=\"llama3.2\")\n",
    "\n",
    "chain = prompt | model\n",
    "\n",
    "chain.invoke({\"question\": \"What is LangChain?\"})"
   ]
  },
  {
   "cell_type": "code",
   "execution_count": 2,
   "metadata": {},
   "outputs": [
    {
     "data": {
      "text/plain": [
       "True"
      ]
     },
     "execution_count": 2,
     "metadata": {},
     "output_type": "execute_result"
    }
   ],
   "source": [
    "from dotenv import load_dotenv\n",
    "load_dotenv()"
   ]
  }
 ],
 "metadata": {
  "kernelspec": {
   "display_name": ".venv",
   "language": "python",
   "name": "python3"
  },
  "language_info": {
   "codemirror_mode": {
    "name": "ipython",
    "version": 3
   },
   "file_extension": ".py",
   "mimetype": "text/x-python",
   "name": "python",
   "nbconvert_exporter": "python",
   "pygments_lexer": "ipython3",
   "version": "3.11.0"
  }
 },
 "nbformat": 4,
 "nbformat_minor": 2
}
