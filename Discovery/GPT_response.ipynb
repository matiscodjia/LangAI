{
 "cells": [
  {
   "cell_type": "markdown",
   "metadata": {},
   "source": [
    "### Importing my api key saved in an other hidden file in an environnement variable"
   ]
  },
  {
   "cell_type": "code",
   "execution_count": 1,
   "metadata": {
    "ExecuteTime": {
     "end_time": "2025-03-18T11:46:20.185824Z",
     "start_time": "2025-03-18T11:46:20.181464Z"
    }
   },
   "outputs": [
    {
     "data": {
      "text/plain": [
       "True"
      ]
     },
     "execution_count": 1,
     "metadata": {},
     "output_type": "execute_result"
    }
   ],
   "source": [
    "from dotenv import load_dotenv\n",
    "\n",
    "load_dotenv()\n"
   ]
  },
  {
   "cell_type": "markdown",
   "metadata": {},
   "source": [
    "### Use of langChain framework to work more easily with my api"
   ]
  },
  {
   "cell_type": "code",
   "execution_count": null,
   "metadata": {
    "ExecuteTime": {
     "end_time": "2025-03-18T11:47:40.764659Z",
     "start_time": "2025-03-18T11:47:40.274073Z"
    }
   },
   "outputs": [],
   "source": [
    "from langchain.llms import OpenAI\n",
    "\n",
    "memory = []\n",
    "\n",
    "llm = OpenAI(temperature=0.6)\n",
    "\n",
    "response = llm.invoke(\"Tell me a joke\")\n",
    "## I memorize the response to avoid requery (time and money consuming)\n",
    "memory.append(response)"
   ]
  },
  {
   "cell_type": "code",
   "execution_count": 5,
   "metadata": {},
   "outputs": [
    {
     "name": "stdout",
     "output_type": "stream",
     "text": [
      "\n",
      "\n",
      "Matis Codjia est un musicien et guitariste de jazz français né en 1989. Il a grandi dans une famille de musiciens et a commencé à jouer de la guitare dès l'âge de 9 ans. Il a étudié la musique au Conservatoire National Supérieur de Musique de Paris, où il a obtenu un premier prix de guitare jazz en 2014.\n",
      "\n",
      "Codjia est un musicien très polyvalent, capable de jouer dans différents styles tels que le jazz, le blues, le rock et la musique africaine. Il est également connu pour son sens de l'improvisation et sa capacité à créer des solos complexes et originaux.\n",
      "\n",
      "Il a collaboré avec de nombreux artistes de renom tels que Manu Dibango, Richard Bona, Ibrahim Maalouf et Youssou N'Dour. Il a également sorti plusieurs albums en tant que leader, dont son dernier, intitulé \"African Jazz Roots\" en 2018.\n",
      "\n",
      "Codjia est reconnu pour sa technique impeccable et sa musicalité raffinée. Il a remporté plusieurs prix et distinctions, dont le\n"
     ]
    }
   ],
   "source": [
    "print(memory[-1])"
   ]
  }
 ],
 "metadata": {
  "kernelspec": {
   "display_name": ".venv",
   "language": "python",
   "name": "python3"
  },
  "language_info": {
   "codemirror_mode": {
    "name": "ipython",
    "version": 3
   },
   "file_extension": ".py",
   "mimetype": "text/x-python",
   "name": "python",
   "nbconvert_exporter": "python",
   "pygments_lexer": "ipython3",
   "version": "3.11.0"
  }
 },
 "nbformat": 4,
 "nbformat_minor": 2
}
