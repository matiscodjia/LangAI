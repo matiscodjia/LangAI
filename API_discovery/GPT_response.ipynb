{
 "cells": [
  {
   "cell_type": "markdown",
   "metadata": {},
   "source": [
    "### Importing my api key saved in an other hidden file in an environnement variable"
   ]
  },
  {
   "cell_type": "code",
   "execution_count": 1,
   "metadata": {
    "ExecuteTime": {
     "end_time": "2025-03-18T11:46:20.185824Z",
     "start_time": "2025-03-18T11:46:20.181464Z"
    }
   },
   "outputs": [
    {
     "data": {
      "text/plain": [
       "True"
      ]
     },
     "execution_count": 1,
     "metadata": {},
     "output_type": "execute_result"
    }
   ],
   "source": [
    "from dotenv import load_dotenv\n",
    "\n",
    "load_dotenv()\n"
   ]
  },
  {
   "cell_type": "markdown",
   "metadata": {},
   "source": [
    "### Use of langChain framework to work more easily with my api"
   ]
  },
  {
   "cell_type": "code",
   "execution_count": 7,
   "metadata": {
    "ExecuteTime": {
     "end_time": "2025-03-18T11:47:40.764659Z",
     "start_time": "2025-03-18T11:47:40.274073Z"
    }
   },
   "outputs": [],
   "source": [
    "from langchain.llms import OpenAI\n",
    "\n",
    "memory = []\n",
    "\n",
    "llm = OpenAI(temperature=0.6)\n",
    "\n",
    "response = llm.invoke(\"Talk me about philosophy in 3 sentences\")\n",
    "## I memorize the response to avoid requery (time and money consuming)\n",
    "memory.append(response)"
   ]
  },
  {
   "cell_type": "code",
   "execution_count": 8,
   "metadata": {},
   "outputs": [
    {
     "name": "stdout",
     "output_type": "stream",
     "text": [
      "\n",
      "\n",
      "1. Philosophy is the study of fundamental questions about existence, knowledge, values, reason, mind, and language.\n",
      "2. It seeks to understand the nature of reality and our place in it, as well as how we can live a meaningful and ethical life.\n",
      "3. Through critical thinking and rational inquiry, philosophy encourages us to question our beliefs and assumptions, leading to a deeper understanding of ourselves and the world around us.\n"
     ]
    }
   ],
   "source": [
    "print(memory[-1])"
   ]
  }
 ],
 "metadata": {
  "kernelspec": {
   "display_name": ".venv",
   "language": "python",
   "name": "python3"
  },
  "language_info": {
   "codemirror_mode": {
    "name": "ipython",
    "version": 3
   },
   "file_extension": ".py",
   "mimetype": "text/x-python",
   "name": "python",
   "nbconvert_exporter": "python",
   "pygments_lexer": "ipython3",
   "version": "3.11.0"
  }
 },
 "nbformat": 4,
 "nbformat_minor": 2
}
