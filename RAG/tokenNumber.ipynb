{
 "cells": [
  {
   "cell_type": "code",
   "execution_count": null,
   "metadata": {},
   "outputs": [
    {
     "name": "stdout",
     "output_type": "stream",
     "text": [
      "Nombre de mots   : 346\n",
      "Nombre de tokens : 673\n",
      "Ratio mots/token : 0.51\n"
     ]
    }
   ],
   "source": [
    "from transformers import AutoTokenizer\n",
    "from utils.my_indexing_utils import read\n",
    "\n",
    "tokenizer = AutoTokenizer.from_pretrained(\"nomic-ai/nomic-embed-text-v1\")\n",
    "\n",
    "text = read(\"/Users/mtis/Local/Code/GitRepos/LangAI/Embeddings/moi.txt\")\n",
    "\n",
    "words = text.split()  \n",
    "tokens = tokenizer.tokenize(text)\n",
    "\n",
    "print(f\"Nombre de mots   : {len(words)}\")\n",
    "print(f\"Nombre de tokens : {len(tokens)}\")\n",
    "print(f\"Ratio mots/token : {len(words) / len(tokens):.2f}\")"
   ]
  }
 ],
 "metadata": {
  "kernelspec": {
   "display_name": ".venv",
   "language": "python",
   "name": "python3"
  },
  "language_info": {
   "codemirror_mode": {
    "name": "ipython",
    "version": 3
   },
   "file_extension": ".py",
   "mimetype": "text/x-python",
   "name": "python",
   "nbconvert_exporter": "python",
   "pygments_lexer": "ipython3",
   "version": "3.11.0"
  }
 },
 "nbformat": 4,
 "nbformat_minor": 2
}
