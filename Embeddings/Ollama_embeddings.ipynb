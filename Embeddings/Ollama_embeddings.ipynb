{
 "cells": [
  {
   "cell_type": "code",
   "execution_count": 1,
   "metadata": {},
   "outputs": [],
   "source": [
    "from langchain_ollama import OllamaEmbeddings\n",
    "\n",
    "embeddings = OllamaEmbeddings(\n",
    "    model=\"llama3.2\",\n",
    ")"
   ]
  },
  {
   "cell_type": "code",
   "execution_count": 21,
   "metadata": {},
   "outputs": [
    {
     "name": "stdout",
     "output_type": "stream",
     "text": [
      "Audrey était une jeune femme ambitieuse, étudiante en droit dans l'une des meilleures facultés du pays. Depuis son enfance, elle rêvait de devenir avocate pour défendre ceux qui n'avaient pas de voix. Sa persévérance et son intelligence lui avaient permis d'obtenir une bourse et d'intégrer cette prestigieuse université.\n",
      "\n",
      "Un jour, un de ses professeurs lui proposa de participer à un concours d'éloquence opposant plusieurs universités. Bien que nerveuse, Audrey accepta le défi, voyant en cette compétition une occasion en or pour affiner ses compétences et gagner en assurance.\n",
      "\n",
      "Elle se plongea alors dans la préparation avec une détermination sans faille. Entre ses cours, ses stages et ses recherches, elle consacrait chaque soir des heures à perfectionner son discours. Elle s'entraînait devant son miroir, puis devant ses amis qui lui donnaient des conseils.\n",
      "\n",
      "Le jour du concours arriva enfin. Face à un auditoire impressionnant et un jury composé de professeurs et d'avocats renommés, Audrey sentit son trac monter. Mais dès qu'elle commença à parler, sa passion prit le dessus. Son argumentation était claire, précise et persuasive. Le jury fut conquis.\n",
      "\n",
      "Quand les résultats furent annoncés, elle n'en crut pas ses oreilles : elle avait remporté la première place ! Cette victoire lui ouvrit de nombreuses portes, dont un stage dans un prestigieux cabinet d'avocats.\n",
      "\n",
      "Cette expérience renforça sa confiance en elle et lui permit de confirmer sa vocation. Audrey savait désormais qu'elle était sur la bonne voie pour réaliser son rêve : devenir une avocate engagée, prête à défendre la justice et ceux qui en avaient besoin.\n",
      "\n",
      "\n"
     ]
    }
   ],
   "source": [
    "# Create a vector store with a sample text\n",
    "from langchain_core.vectorstores import InMemoryVectorStore\n",
    "\n",
    "\n",
    "file_path = './moi.txt'\n",
    "file_path2 = './elle.txt'\n",
    "\n",
    "def read(file_path):\n",
    "    with open(file_path, 'r') as file:\n",
    "        return file.read()\n",
    "\n",
    "\n",
    "text = read(file_path)\n",
    "text2 = read(file_path2)\n",
    "vectorstore = InMemoryVectorStore.from_texts(\n",
    "    [text, text2],\n",
    "    embedding=embeddings,\n",
    ")\n",
    "#print(vectorstore)\n",
    "#results = vectorstore.similarity_search(query=\"Matis\",k=1)\n",
    "#print(results)\n",
    "retriever = vectorstore.as_retriever()\n",
    "\n",
    "# Retrieve the most similar text\n",
    "retrieved_documents = retriever.invoke(\"Elle se plongea alors dans la préparation avec une détermination sans faille. Entre ses cours, ses stages et ses recherches, elle consacrait chaque soir des heures à perfectionner son discours. Elle s'entraînait devant son miroir, puis devant ses amis qui lui donnaient des conseils.\"\n",
    "\"Le jour du concours arriva enfin. Face à un auditoire impressionnant et un jury composé de professeurs et d'avocats renommés, Audrey sentit son trac monter. Mais dès qu'elle commença à parler, sa passion prit le dessus. Son argumentation était claire, précise et persuasive. Le jury fut conquis. \"\n",
    "\"Quand les résultats furent annoncés, elle n'en crut pas ses oreilles :\")\n",
    "\n",
    "# show the retrieved document's content\n",
    "print(retrieved_documents[0].page_content)"
   ]
  }
 ],
 "metadata": {
  "kernelspec": {
   "display_name": ".venv",
   "language": "python",
   "name": "python3"
  },
  "language_info": {
   "codemirror_mode": {
    "name": "ipython",
    "version": 3
   },
   "file_extension": ".py",
   "mimetype": "text/x-python",
   "name": "python",
   "nbconvert_exporter": "python",
   "pygments_lexer": "ipython3",
   "version": "3.11.0"
  }
 },
 "nbformat": 4,
 "nbformat_minor": 2
}
