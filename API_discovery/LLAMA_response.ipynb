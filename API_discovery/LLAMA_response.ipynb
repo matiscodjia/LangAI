{
 "cells": [
  {
   "cell_type": "code",
   "execution_count": 2,
   "metadata": {},
   "outputs": [
    {
     "data": {
      "text/plain": [
       "True"
      ]
     },
     "execution_count": 2,
     "metadata": {},
     "output_type": "execute_result"
    }
   ],
   "source": [
    "from dotenv import load_dotenv\n",
    "\n",
    "load_dotenv()"
   ]
  },
  {
   "cell_type": "code",
   "execution_count": 1,
   "metadata": {},
   "outputs": [
    {
     "data": {
      "text/plain": [
       "'LangChain is an open-source framework that aims to simplify the development of blockchain-based applications by providing a set of tools and utilities for interacting with blockchains.\\n\\nTo break it down further:\\n\\n1. **Blockchain Interaction**: LangChain allows developers to interact with blockchains in a more convenient and standardized way, making it easier to work with different chain protocols.\\n2. **Smart Contract Development**: The framework provides a simple way to develop smart contracts using popular programming languages like Solidity (for Ethereum) or Rust.\\n3. **Decentralized Data Storage**: LangChain offers decentralized data storage solutions, such as IPFS (InterPlanetary File System), which allows for secure and transparent data sharing.\\n4. **Ecosystem Expansion**: By providing a unified interface for interacting with blockchains, LangChain enables the creation of a broader ecosystem of developers, projects, and services.\\n\\nOverall, LangChain seeks to simplify the complexities of blockchain development by providing a standardized set of tools and utilities that can be used across various blockchain platforms.'"
      ]
     },
     "execution_count": 1,
     "metadata": {},
     "output_type": "execute_result"
    }
   ],
   "source": [
    "from langchain_core.prompts import ChatPromptTemplate\n",
    "from langchain_ollama.llms import OllamaLLM\n",
    "\n",
    "template = \"\"\"Question: {question}\n",
    "\n",
    "Answer: Let's think step by step.\"\"\"\n",
    "\n",
    "prompt = ChatPromptTemplate.from_template(template)\n",
    "\n",
    "model = OllamaLLM(model=\"llama3.2\")\n",
    "\n",
    "chain = prompt | model\n",
    "\n",
    "chain.invoke({\"question\": \"What is LangChain?\"})"
   ]
  }
 ],
 "metadata": {
  "kernelspec": {
   "display_name": ".venv",
   "language": "python",
   "name": "python3"
  },
  "language_info": {
   "codemirror_mode": {
    "name": "ipython",
    "version": 3
   },
   "file_extension": ".py",
   "mimetype": "text/x-python",
   "name": "python",
   "nbconvert_exporter": "python",
   "pygments_lexer": "ipython3",
   "version": "3.11.0"
  }
 },
 "nbformat": 4,
 "nbformat_minor": 2
}
